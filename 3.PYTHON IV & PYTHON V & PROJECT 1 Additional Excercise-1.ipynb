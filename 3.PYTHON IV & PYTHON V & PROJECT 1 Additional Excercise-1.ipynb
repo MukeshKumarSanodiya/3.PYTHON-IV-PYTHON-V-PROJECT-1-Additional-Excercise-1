{
 "cells": [
  {
   "cell_type": "markdown",
   "metadata": {},
   "source": [
    "# Mukesh Kumar Sanodiya (08-Jan-2019)"
   ]
  },
  {
   "cell_type": "markdown",
   "metadata": {},
   "source": [
    "# 3.PYTHON IV & PYTHON V & PROJECT 1- Additional Excercise-1"
   ]
  },
  {
   "cell_type": "markdown",
   "metadata": {},
   "source": [
    "# 1) Write a python program which creates a class named Cone and write a function calculate_area which calculates the area of the Cone.\n",
    "Sample Execution:\n",
    "Please enter the radius of the cone: 4\n",
    "Please enter the height of the cone: 5\n",
    "Area of a cone with radius: 4.00 and height: 5.00 is: 83.73"
   ]
  },
  {
   "cell_type": "code",
   "execution_count": 13,
   "metadata": {},
   "outputs": [
    {
     "name": "stdout",
     "output_type": "stream",
     "text": [
      "Please Enter the Radius of a Cone: 4\n",
      "Please Enter the Height of a Cone: 5\n",
      "Area of a cone with radius:  4.0 and height:  5.0 is:  83.81\n"
     ]
    }
   ],
   "source": [
    "class Cone:\n",
    "    def __init__(self, r,h):\n",
    "        self.radius = r\n",
    "        self.height = h\n",
    "        self.area = 0\n",
    "    def getRadius(self):\n",
    "        return round(self.radius,2)\n",
    "    def getheight(self):\n",
    "        return round(self.height,2)\n",
    "\n",
    "    def coneArea(self):\n",
    "        r1=self.radius\n",
    "        h1=self.height\n",
    "        self.area = (1.0/3) * (22/7) * r1 * r1 * h1\n",
    "        return round(self.area,2)\n",
    "def main():\n",
    "    r = float(input('Please Enter the Radius of a Cone: '))\n",
    "    h = float(input('Please Enter the Height of a Cone: '))\n",
    "    s=Cone(r,h)    \n",
    "    print(\"Area of a cone with radius: \", s.getRadius() ,\"and height: \", s.getheight() ,\"is: \",s.coneArea())\n",
    "if __name__ == '__main__':\n",
    "    main()"
   ]
  },
  {
   "cell_type": "markdown",
   "metadata": {},
   "source": [
    "# 2) Define a class MathOperation which implements pow(x,n) without using python's in-built pow() method"
   ]
  },
  {
   "cell_type": "code",
   "execution_count": 36,
   "metadata": {},
   "outputs": [
    {
     "name": "stdout",
     "output_type": "stream",
     "text": [
      "print(M.pow1(2, 3))\n",
      "8\n",
      "print(M.pow1(5,-3))\n",
      "0.008\n",
      "print(M.pow1(-2, 5))\n",
      "-32\n",
      "print(M.pow1(-5,-3))\n",
      "-0.008\n",
      "print(M.pow1(20000, 0))\n",
      "1\n"
     ]
    }
   ],
   "source": [
    "class MathOperation:\n",
    "    def pow1(self, x, n):\n",
    "        if x==0 or x==1 or n==1:\n",
    "            return x \n",
    "        if x==-1:\n",
    "            if n%2 ==0:\n",
    "                return 1\n",
    "            else:\n",
    "                return -1\n",
    "        if n==0:\n",
    "            return 1\n",
    "        if n<0:\n",
    "            return 1/self.pow1(x,-n)\n",
    "        val = self.pow1(x,n//2)\n",
    "        if n%2 ==0:\n",
    "            return val*val\n",
    "        return val*val*x\n",
    "print(\"print(M.pow1(2, 3))\")\n",
    "print(MathOperation().pow1(2, 3))\n",
    "print(\"print(M.pow1(5,-3))\")\n",
    "print(MathOperation().pow1(5,-3))\n",
    "print(\"print(M.pow1(-2, 5))\")\n",
    "print(MathOperation().pow1(-2, 5))\n",
    "print(\"print(M.pow1(-5,-3))\")\n",
    "print(MathOperation().pow1(-5,-3))\n",
    "print(\"print(M.pow1(20000, 0))\")\n",
    "print(MathOperation().pow1(20000, 0))\n",
    "\n"
   ]
  },
  {
   "cell_type": "markdown",
   "metadata": {},
   "source": [
    "# 3) Write a python program that creates a class Base and Derived. Use inbuilt function issubclass and isinstance which gives boolean results.(True or False)"
   ]
  },
  {
   "cell_type": "code",
   "execution_count": 37,
   "metadata": {},
   "outputs": [
    {
     "name": "stdout",
     "output_type": "stream",
     "text": [
      "True\n",
      "False\n",
      "False\n",
      "True\n"
     ]
    }
   ],
   "source": [
    "class Base(object): \n",
    "    pass     \n",
    "class Derived(Base): \n",
    "    pass    \n",
    "print(issubclass(Derived, Base)) \n",
    "print(issubclass(Base, Derived)) \n",
    "  \n",
    "d = Derived() \n",
    "b = Base() \n",
    "print(isinstance(b, Derived)) \n",
    "print(isinstance(d, Base)) "
   ]
  },
  {
   "cell_type": "markdown",
   "metadata": {},
   "source": [
    "# 4) Write a python program that creates base class Person which has two methods\n",
    "def __init__(self, first, last) \n",
    "\n",
    "def __str__(self) \n",
    "\n",
    "Also create a derived class named Employee which uses the base class\n",
    "method “def __str__(self)” using “super()” to concatenate first name wit\n",
    "h last name"
   ]
  },
  {
   "cell_type": "code",
   "execution_count": 38,
   "metadata": {},
   "outputs": [
    {
     "name": "stdout",
     "output_type": "stream",
     "text": [
      "Mukesh Sanodiya\n",
      "Mukesh Sanodiya, 10852\n"
     ]
    }
   ],
   "source": [
    "class Person:\n",
    "\n",
    "    def __init__(self, first, last):\n",
    "        self.firstname = first\n",
    "        self.lastname = last\n",
    "\n",
    "    def Name(self):\n",
    "        return self.firstname + \" \" + self.lastname\n",
    "\n",
    "class Employee(Person):\n",
    "\n",
    "    def __init__(self, first, last, staffnum):\n",
    "        Person.__init__(self,first, last)\n",
    "        self.staffnumber = staffnum\n",
    "\n",
    "    def GetEmployee(self):\n",
    "        return self.Name() + \", \" +  self.staffnumber\n",
    "\n",
    "x = Person(\"Mukesh\", \"Sanodiya\")\n",
    "y = Employee(\"Mukesh\", \"Sanodiya\", \"10852\")\n",
    "\n",
    "print(x.Name())\n",
    "print(y.GetEmployee())"
   ]
  },
  {
   "cell_type": "code",
   "execution_count": null,
   "metadata": {},
   "outputs": [],
   "source": []
  }
 ],
 "metadata": {
  "kernelspec": {
   "display_name": "Python 3",
   "language": "python",
   "name": "python3"
  },
  "language_info": {
   "codemirror_mode": {
    "name": "ipython",
    "version": 3
   },
   "file_extension": ".py",
   "mimetype": "text/x-python",
   "name": "python",
   "nbconvert_exporter": "python",
   "pygments_lexer": "ipython3",
   "version": "3.7.0"
  }
 },
 "nbformat": 4,
 "nbformat_minor": 2
}
